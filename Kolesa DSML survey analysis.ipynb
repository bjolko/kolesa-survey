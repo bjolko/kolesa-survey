{
 "cells": [
  {
   "cell_type": "markdown",
   "metadata": {},
   "source": [
    "# Kolesa DSML survey analysis"
   ]
  },
  {
   "cell_type": "markdown",
   "metadata": {},
   "source": [
    "## Introduction"
   ]
  },
  {
   "cell_type": "markdown",
   "metadata": {},
   "source": [
    "In the end of 2019 Kolesa Group launched a survey among kazakhstani DSML professionals asking about their salary, programming languages, interests and level of analytics in their companies.\n",
    "\n",
    "[Datasource in Google Sheets](https://docs.google.com/spreadsheets/d/18DyVG1ZA3EJWrl98Z1_pjg9UC6VochIKVgUU_yDlTuM/edit?usp=sharing)\n",
    "\n",
    "I want to analyze how much 👩 / 👨 answers differ. I use R language."
   ]
  },
  {
   "cell_type": "markdown",
   "metadata": {},
   "source": [
    "## TL;DR\n",
    "\n",
    "On average\n",
    "\n",
    "* Women earn less than men\n",
    "* Pay gap is 22%\n",
    "* Women have less experience\n",
    "* Women are less skilled in programming languages\n",
    "* Both sex have about the same responsibilities\n",
    "\n",
    "Useful links are [here](#bonus)\n",
    "\n",
    "<font color='red'>**Disclaimer**</font> Conclusions are made only on this survey data and they are not a source of truth."
   ]
  },
  {
   "cell_type": "markdown",
   "metadata": {},
   "source": [
    "## Let's go"
   ]
  },
  {
   "cell_type": "markdown",
   "metadata": {},
   "source": [
    "## Libraries & functions"
   ]
  },
  {
   "cell_type": "code",
   "execution_count": 1,
   "metadata": {},
   "outputs": [],
   "source": [
    "options(scipen = 99, warn = -1)"
   ]
  },
  {
   "cell_type": "code",
   "execution_count": 2,
   "metadata": {},
   "outputs": [],
   "source": [
    "suppressMessages(library(googlesheets4))\n",
    "suppressMessages(library(gargle))\n",
    "suppressMessages(library(dplyr))\n",
    "suppressMessages(library(stringr))\n",
    "suppressMessages(library(ggplot2))\n",
    "suppressMessages(library(ggthemr))"
   ]
  },
  {
   "cell_type": "code",
   "execution_count": 3,
   "metadata": {},
   "outputs": [],
   "source": [
    "ggthemr('flat')"
   ]
  },
  {
   "cell_type": "markdown",
   "metadata": {},
   "source": [
    "## Reading data from GS"
   ]
  },
  {
   "cell_type": "code",
   "execution_count": 4,
   "metadata": {},
   "outputs": [
    {
     "name": "stdout",
     "output_type": "stream",
     "text": [
      "Using an auto-discovered, cached token.\n",
      "To suppress this message, modify your code or options to clearly consent to the use of a cached token.\n",
      "See gargle's \"Non-interactive auth\" vignette for more details:\n",
      "https://gargle.r-lib.org/articles/non-interactive-auth.html\n",
      "The googlesheets4 package is using a cached token for elvira.nassirova@railsware.com.\n"
     ]
    },
    {
     "name": "stderr",
     "output_type": "stream",
     "text": [
      "Auto-refreshing stale OAuth token.\n",
      "\n",
      "Reading from 'Исследование рынка Data Science и аналитиков в Казахстане_RAW'\n",
      "\n",
      "Range \"Исследование рынка аналитиков\"\n",
      "\n"
     ]
    },
    {
     "name": "stdout",
     "output_type": "stream",
     "text": [
      "Observations: 307\n",
      "Variables: 38\n",
      "$ `Укажите ваше место жительства:`                                                                 \u001b[3m\u001b[90m<chr>\u001b[39m\u001b[23m ...\n",
      "$ `Сколько вам лет?`                                                                               \u001b[3m\u001b[90m<dbl>\u001b[39m\u001b[23m ...\n",
      "$ `Пол:`                                                                                           \u001b[3m\u001b[90m<chr>\u001b[39m\u001b[23m ...\n",
      "$ `Уровень вашего образования:`                                                                    \u001b[3m\u001b[90m<chr>\u001b[39m\u001b[23m ...\n",
      "$ `Название вашего учебного заведения:`                                                            \u001b[3m\u001b[90m<chr>\u001b[39m\u001b[23m ...\n",
      "$ `Специализация полученного образования:`                                                         \u001b[3m\u001b[90m<chr>\u001b[39m\u001b[23m ...\n",
      "$ `Какими языками вы свободно владеете?`                                                           \u001b[3m\u001b[90m<chr>\u001b[39m\u001b[23m ...\n",
      "$ `Ваш стаж работы в сфере анализа данных:`                                                        \u001b[3m\u001b[90m<dbl>\u001b[39m\u001b[23m ...\n",
      "$ `Общий стаж работы:`                                                                             \u001b[3m\u001b[90m<dbl>\u001b[39m\u001b[23m ...\n",
      "$ `В какой стране вы работаете?`                                                                   \u001b[3m\u001b[90m<chr>\u001b[39m\u001b[23m ...\n",
      "$ `Сфера деятельности компании в которой вы работаете на данный момент:`                           \u001b[3m\u001b[90m<chr>\u001b[39m\u001b[23m ...\n",
      "$ `Уровень вашей должности:`                                                                       \u001b[3m\u001b[90m<chr>\u001b[39m\u001b[23m ...\n",
      "$ `Позиция на текущем месте работы:`                                                               \u001b[3m\u001b[90m<chr>\u001b[39m\u001b[23m ...\n",
      "$ `Предыдущая специальность:`                                                                      \u001b[3m\u001b[90m<chr>\u001b[39m\u001b[23m ...\n",
      "$ `Формат вашей работы на данный момент:`                                                          \u001b[3m\u001b[90m<chr>\u001b[39m\u001b[23m ...\n",
      "$ `Количество сотрудников в вашем отделе:`                                                         \u001b[3m\u001b[90m<dbl>\u001b[39m\u001b[23m ...\n",
      "$ `Отметьте три основные функции, которые входят в вашу зону ответственности:`                     \u001b[3m\u001b[90m<chr>\u001b[39m\u001b[23m ...\n",
      "$ `Источник постановки задач в вашей работе:`                                                      \u001b[3m\u001b[90m<chr>\u001b[39m\u001b[23m ...\n",
      "$ `Какие типы анализа данных или аналитических задач вы решаете?`                                  \u001b[3m\u001b[90m<chr>\u001b[39m\u001b[23m ...\n",
      "$ `Языки программирования:`                                                                        \u001b[3m\u001b[90m<chr>\u001b[39m\u001b[23m ...\n",
      "$ `Для визуализации и предоставления информации вы используете:`                                   \u001b[3m\u001b[90m<chr>\u001b[39m\u001b[23m ...\n",
      "$ `Системы веб- и мобильной аналитики:`                                                            \u001b[3m\u001b[90m<chr>\u001b[39m\u001b[23m ...\n",
      "$ `Математические и статистические инструменты:`                                                   \u001b[3m\u001b[90m<chr>\u001b[39m\u001b[23m ...\n",
      "$ `Библиотеки для машинного обучения:`                                                             \u001b[3m\u001b[90m<chr>\u001b[39m\u001b[23m ...\n",
      "$ `Есть ли у вас в компании DWH?`                                                                  \u001b[3m\u001b[90m<chr>\u001b[39m\u001b[23m ...\n",
      "$ `СУБД или системы распределённых вычислений:`                                                    \u001b[3m\u001b[90m<chr>\u001b[39m\u001b[23m ...\n",
      "$ `Какие системы хранения данных вы используете?`                                                  \u001b[3m\u001b[90m<chr>\u001b[39m\u001b[23m ...\n",
      "$ `Какие облачные сервисы вы используете?`                                                         \u001b[3m\u001b[90m<chr>\u001b[39m\u001b[23m ...\n",
      "$ `Оцените на каком уровне в вашей компании находится аналитика и/или Data Science`                \u001b[3m\u001b[90m<chr>\u001b[39m\u001b[23m ...\n",
      "$ `Каких навыков или знаний вам не хватает?`                                                       \u001b[3m\u001b[90m<chr>\u001b[39m\u001b[23m ...\n",
      "$ `Размер вашей заработной платы в тенге на руки:`                                                 \u001b[3m\u001b[90m<dbl>\u001b[39m\u001b[23m ...\n",
      "$ `Считаете ли вы свою заработную плату объективной по отношению к рынку?`                         \u001b[3m\u001b[90m<chr>\u001b[39m\u001b[23m ...\n",
      "$ `Как давно, было последнее повышение вашей заработной платы?`                                    \u001b[3m\u001b[90m<chr>\u001b[39m\u001b[23m ...\n",
      "$ `Готовы ли вы сейчас к смене работы при более выгодном предложении?`                             \u001b[3m\u001b[90m<chr>\u001b[39m\u001b[23m ...\n",
      "$ `Сколько раз вы меняли место работы за последние пять лет?`                                      \u001b[3m\u001b[90m<dbl>\u001b[39m\u001b[23m ...\n",
      "$ `Если планируете перейти в другую сферу, то в какую?`                                            \u001b[3m\u001b[90m<chr>\u001b[39m\u001b[23m ...\n",
      "$ `Выберите три наиболее важных для вас пункта при выборе места работы:`                           \u001b[3m\u001b[90m<chr>\u001b[39m\u001b[23m ...\n",
      "$ `Напишите топ любимых каналов/блогов/авторов, которые помогают вам в профессиональном развитии.` \u001b[3m\u001b[90m<chr>\u001b[39m\u001b[23m ...\n"
     ]
    }
   ],
   "source": [
    "suppressMessages(sheets_auth())\n",
    "\n",
    "sheet_id <- '18DyVG1ZA3EJWrl98Z1_pjg9UC6VochIKVgUU_yDlTuM'\n",
    "\n",
    "df <- read_sheet(sheet_id)\n",
    "glimpse(df)"
   ]
  },
  {
   "cell_type": "code",
   "execution_count": 5,
   "metadata": {},
   "outputs": [],
   "source": [
    "df_mod <- \n",
    "    df %>% \n",
    "    na_if('') %>% \n",
    "    dplyr::rename(sex = `Пол:`) %>% \n",
    "    mutate(sex = recode(sex, `м` = 'Male', `ж` = 'Female'))"
   ]
  },
  {
   "cell_type": "markdown",
   "metadata": {},
   "source": [
    "## Question 0: How many of each?"
   ]
  },
  {
   "cell_type": "code",
   "execution_count": 6,
   "metadata": {},
   "outputs": [
    {
     "data": {
      "text/html": [
       "<table>\n",
       "<caption>A tibble: 2 × 3</caption>\n",
       "<thead>\n",
       "\t<tr><th scope=col>sex</th><th scope=col>n</th><th scope=col>share</th></tr>\n",
       "\t<tr><th scope=col>&lt;chr&gt;</th><th scope=col>&lt;int&gt;</th><th scope=col>&lt;chr&gt;</th></tr>\n",
       "</thead>\n",
       "<tbody>\n",
       "\t<tr><td>Female</td><td> 74</td><td>24%</td></tr>\n",
       "\t<tr><td>Male  </td><td>233</td><td>76%</td></tr>\n",
       "</tbody>\n",
       "</table>\n"
      ],
      "text/latex": [
       "A tibble: 2 × 3\n",
       "\\begin{tabular}{lll}\n",
       " sex & n & share\\\\\n",
       " <chr> & <int> & <chr>\\\\\n",
       "\\hline\n",
       "\t Female &  74 & 24\\%\\\\\n",
       "\t Male   & 233 & 76\\%\\\\\n",
       "\\end{tabular}\n"
      ],
      "text/markdown": [
       "\n",
       "A tibble: 2 × 3\n",
       "\n",
       "| sex &lt;chr&gt; | n &lt;int&gt; | share &lt;chr&gt; |\n",
       "|---|---|---|\n",
       "| Female |  74 | 24% |\n",
       "| Male   | 233 | 76% |\n",
       "\n"
      ],
      "text/plain": [
       "  sex    n   share\n",
       "1 Female  74 24%  \n",
       "2 Male   233 76%  "
      ]
     },
     "metadata": {},
     "output_type": "display_data"
    }
   ],
   "source": [
    "count(df_mod, sex) %>% \n",
    "    mutate(share = scales::percent(n/sum(n)))"
   ]
  },
  {
   "cell_type": "markdown",
   "metadata": {},
   "source": [
    "## Question 1: How many speak languages do they know?"
   ]
  },
  {
   "cell_type": "code",
   "execution_count": 7,
   "metadata": {},
   "outputs": [
    {
     "data": {
      "image/png": "[encoded data removed]",
      "text/plain": [
       "plot without title"
      ]
     },
     "metadata": {
      "image/png": {
       "height": 420,
       "width": 420
      }
     },
     "output_type": "display_data"
    }
   ],
   "source": [
    "df_mod %>% \n",
    "    dplyr::select(sex, languages = `Какими языками вы свободно владеете?`) %>% \n",
    "    mutate(lang_cnt = str_count(languages, ',') + 1) %>% \n",
    "    ggplot(aes(x = sex, y = lang_cnt, fill = sex)) +\n",
    "    geom_boxplot() +\n",
    "    labs(title = 'How many languages do they know?',\n",
    "        x = '', y = 'Languages count',\n",
    "        fill = 'Sex')"
   ]
  },
  {
   "cell_type": "markdown",
   "metadata": {},
   "source": [
    "So, nothing interesting here, except for an outlier on Female side."
   ]
  },
  {
   "cell_type": "markdown",
   "metadata": {},
   "source": [
    "## Question 2: How much do they earn?"
   ]
  },
  {
   "cell_type": "markdown",
   "metadata": {},
   "source": [
    "![img](https://icdn.lenta.ru/images/2018/04/06/00/20180406002902742/detail_52be6d71355bf9f62deda075143ea2d5.jpg)"
   ]
  },
  {
   "cell_type": "code",
   "execution_count": 8,
   "metadata": {},
   "outputs": [
    {
     "data": {
      "image/png": "[encoded data removed]",
      "text/plain": [
       "plot without title"
      ]
     },
     "metadata": {
      "image/png": {
       "height": 420,
       "width": 420
      }
     },
     "output_type": "display_data"
    }
   ],
   "source": [
    "df_mod %>% \n",
    "    dplyr::select(sex, salary = `Размер вашей заработной платы в тенге на руки:`) %>% \n",
    "    filter(!is.na(salary), \n",
    "           between(salary, quantile(salary, .05, na.rm = T), quantile(salary, .95, na.rm = T))) %>% \n",
    "    ggplot(aes(x = sex, y = salary, fill = sex)) +\n",
    "    geom_boxplot() +\n",
    "    labs(title = 'How much do they earn?',\n",
    "        x = '', y = 'Salary, KZT',\n",
    "        fill = 'Sex')"
   ]
  },
  {
   "cell_type": "markdown",
   "metadata": {},
   "source": [
    "And here we go, women have lower salary than men."
   ]
  },
  {
   "cell_type": "code",
   "execution_count": 9,
   "metadata": {},
   "outputs": [
    {
     "data": {
      "text/html": [
       "<table>\n",
       "<caption>A tibble: 2 × 4</caption>\n",
       "<thead>\n",
       "\t<tr><th scope=col>Sex</th><th scope=col>25%</th><th scope=col>Median</th><th scope=col>75%</th></tr>\n",
       "\t<tr><th scope=col>&lt;chr&gt;</th><th scope=col>&lt;dbl&gt;</th><th scope=col>&lt;dbl&gt;</th><th scope=col>&lt;dbl&gt;</th></tr>\n",
       "</thead>\n",
       "<tbody>\n",
       "\t<tr><td>Female</td><td>150000</td><td>272000</td><td>450000</td></tr>\n",
       "\t<tr><td>Male  </td><td>197500</td><td>350000</td><td>600000</td></tr>\n",
       "</tbody>\n",
       "</table>\n"
      ],
      "text/latex": [
       "A tibble: 2 × 4\n",
       "\\begin{tabular}{llll}\n",
       " Sex & 25\\% & Median & 75\\%\\\\\n",
       " <chr> & <dbl> & <dbl> & <dbl>\\\\\n",
       "\\hline\n",
       "\t Female & 150000 & 272000 & 450000\\\\\n",
       "\t Male   & 197500 & 350000 & 600000\\\\\n",
       "\\end{tabular}\n"
      ],
      "text/markdown": [
       "\n",
       "A tibble: 2 × 4\n",
       "\n",
       "| Sex &lt;chr&gt; | 25% &lt;dbl&gt; | Median &lt;dbl&gt; | 75% &lt;dbl&gt; |\n",
       "|---|---|---|---|\n",
       "| Female | 150000 | 272000 | 450000 |\n",
       "| Male   | 197500 | 350000 | 600000 |\n",
       "\n"
      ],
      "text/plain": [
       "  Sex    25%    Median 75%   \n",
       "1 Female 150000 272000 450000\n",
       "2 Male   197500 350000 600000"
      ]
     },
     "metadata": {},
     "output_type": "display_data"
    }
   ],
   "source": [
    "df_salary_stats <- \n",
    "    df_mod %>% \n",
    "    dplyr::select(sex, salary = `Размер вашей заработной платы в тенге на руки:`) %>% \n",
    "    filter(!is.na(salary)) %>% \n",
    "    group_by(Sex = sex) %>% \n",
    "    summarise(`25%` = quantile(salary, .25),\n",
    "             Median = median(salary),\n",
    "             `75%` = quantile(salary, .75)) %>% \n",
    "    ungroup\n",
    "\n",
    "df_salary_stats"
   ]
  },
  {
   "cell_type": "code",
   "execution_count": 10,
   "metadata": {},
   "outputs": [
    {
     "data": {
      "text/html": [
       "'Gender pay gap: 22%'"
      ],
      "text/latex": [
       "'Gender pay gap: 22\\%'"
      ],
      "text/markdown": [
       "'Gender pay gap: 22%'"
      ],
      "text/plain": [
       "[1] \"Gender pay gap: 22%\""
      ]
     },
     "metadata": {},
     "output_type": "display_data"
    }
   ],
   "source": [
    "df_salary_stats %>% \n",
    "    summarise(paygap = scales::percent(1 - min(Median)/max(Median)),\n",
    "             paygap = paste0('Gender pay gap: ', paygap)) %>% \n",
    "    pull(paygap)"
   ]
  },
  {
   "cell_type": "markdown",
   "metadata": {},
   "source": [
    "Gender pay gap of 22% opposed to an average of 32% in Kazakhstan, 2019.\n",
    "\n",
    "So, maybe women are less skilled or have less experience? Let's check that."
   ]
  },
  {
   "cell_type": "markdown",
   "metadata": {},
   "source": [
    "## Question 3: How much do team leads earn?"
   ]
  },
  {
   "cell_type": "code",
   "execution_count": 11,
   "metadata": {},
   "outputs": [
    {
     "data": {
      "image/png": "[encoded data removed]",
      "text/plain": [
       "plot without title"
      ]
     },
     "metadata": {
      "image/png": {
       "height": 420,
       "width": 420
      }
     },
     "output_type": "display_data"
    }
   ],
   "source": [
    "df_mod %>% \n",
    "    filter(`Уровень вашей должности:` == 'руководитель или тимлид') %>% \n",
    "    dplyr::select(sex, salary = `Размер вашей заработной платы в тенге на руки:`) %>% \n",
    "    filter(!is.na(salary), \n",
    "           between(salary, quantile(salary, .05, na.rm = T), quantile(salary, .95, na.rm = T))) %>% \n",
    "    ggplot(aes(x = sex, y = salary, fill = sex)) +\n",
    "    geom_boxplot() +\n",
    "    labs(title = 'How much do they earn?',\n",
    "        x = '', y = 'Salary, KZT',\n",
    "        fill = 'Sex')"
   ]
  },
  {
   "cell_type": "code",
   "execution_count": 12,
   "metadata": {},
   "outputs": [
    {
     "data": {
      "text/html": [
       "<table>\n",
       "<caption>A tibble: 2 × 4</caption>\n",
       "<thead>\n",
       "\t<tr><th scope=col>Sex</th><th scope=col>25%</th><th scope=col>Median</th><th scope=col>75%</th></tr>\n",
       "\t<tr><th scope=col>&lt;chr&gt;</th><th scope=col>&lt;dbl&gt;</th><th scope=col>&lt;dbl&gt;</th><th scope=col>&lt;dbl&gt;</th></tr>\n",
       "</thead>\n",
       "<tbody>\n",
       "\t<tr><td>Female</td><td>380000</td><td>500000</td><td>650000</td></tr>\n",
       "\t<tr><td>Male  </td><td>400000</td><td>600000</td><td>837500</td></tr>\n",
       "</tbody>\n",
       "</table>\n"
      ],
      "text/latex": [
       "A tibble: 2 × 4\n",
       "\\begin{tabular}{llll}\n",
       " Sex & 25\\% & Median & 75\\%\\\\\n",
       " <chr> & <dbl> & <dbl> & <dbl>\\\\\n",
       "\\hline\n",
       "\t Female & 380000 & 500000 & 650000\\\\\n",
       "\t Male   & 400000 & 600000 & 837500\\\\\n",
       "\\end{tabular}\n"
      ],
      "text/markdown": [
       "\n",
       "A tibble: 2 × 4\n",
       "\n",
       "| Sex &lt;chr&gt; | 25% &lt;dbl&gt; | Median &lt;dbl&gt; | 75% &lt;dbl&gt; |\n",
       "|---|---|---|---|\n",
       "| Female | 380000 | 500000 | 650000 |\n",
       "| Male   | 400000 | 600000 | 837500 |\n",
       "\n"
      ],
      "text/plain": [
       "  Sex    25%    Median 75%   \n",
       "1 Female 380000 500000 650000\n",
       "2 Male   400000 600000 837500"
      ]
     },
     "metadata": {},
     "output_type": "display_data"
    }
   ],
   "source": [
    "df_salary_stats <- \n",
    "    df_mod %>% \n",
    "    filter(`Уровень вашей должности:` == 'руководитель или тимлид') %>% \n",
    "    dplyr::select(sex, salary = `Размер вашей заработной платы в тенге на руки:`) %>% \n",
    "    filter(!is.na(salary)) %>% \n",
    "    group_by(Sex = sex) %>% \n",
    "    summarise(`25%` = quantile(salary, .25),\n",
    "             Median = median(salary),\n",
    "             `75%` = quantile(salary, .75)) %>% \n",
    "    ungroup\n",
    "\n",
    "df_salary_stats"
   ]
  },
  {
   "cell_type": "code",
   "execution_count": 13,
   "metadata": {},
   "outputs": [
    {
     "data": {
      "text/html": [
       "'Gender pay gap: 17%'"
      ],
      "text/latex": [
       "'Gender pay gap: 17\\%'"
      ],
      "text/markdown": [
       "'Gender pay gap: 17%'"
      ],
      "text/plain": [
       "[1] \"Gender pay gap: 17%\""
      ]
     },
     "metadata": {},
     "output_type": "display_data"
    }
   ],
   "source": [
    "df_salary_stats %>% \n",
    "    summarise(paygap = scales::percent(1 - min(Median)/max(Median)),\n",
    "             paygap = paste0('Gender pay gap: ', paygap)) %>% \n",
    "    pull(paygap)"
   ]
  },
  {
   "cell_type": "markdown",
   "metadata": {},
   "source": [
    "So, even on the same position women earn less money. I assume that to work as a team lead you have to have a certain experience."
   ]
  },
  {
   "cell_type": "markdown",
   "metadata": {},
   "source": [
    "## Question 4: How much experience do they have?"
   ]
  },
  {
   "cell_type": "code",
   "execution_count": 14,
   "metadata": {},
   "outputs": [
    {
     "data": {
      "image/png": "[encoded data removed]",
      "text/plain": [
       "plot without title"
      ]
     },
     "metadata": {
      "image/png": {
       "height": 420,
       "width": 420
      }
     },
     "output_type": "display_data"
    }
   ],
   "source": [
    "df_mod %>% \n",
    "    dplyr::select(sex, experience = `Ваш стаж работы в сфере анализа данных:`) %>% \n",
    "    filter(between(experience, quantile(experience, .05, na.rm = T), quantile(experience, .95, na.rm = T))) %>% \n",
    "    ggplot(aes(x = sex, y = experience, fill = sex)) +\n",
    "    geom_boxplot() +\n",
    "    scale_y_continuous(breaks = seq(1, 10, 1)) +\n",
    "    labs(title = 'How much experience do they have',\n",
    "        x = '', y = 'Experience in years',\n",
    "        fill = 'Sex')"
   ]
  },
  {
   "cell_type": "markdown",
   "metadata": {},
   "source": [
    "In general women have less experience. Median of 1 year compared to 2 years for men."
   ]
  },
  {
   "cell_type": "markdown",
   "metadata": {},
   "source": [
    "## Question 5: How skilled they are?"
   ]
  },
  {
   "cell_type": "markdown",
   "metadata": {},
   "source": [
    "I am going to compare what languages they use for math and statistics."
   ]
  },
  {
   "cell_type": "code",
   "execution_count": 15,
   "metadata": {},
   "outputs": [
    {
     "name": "stderr",
     "output_type": "stream",
     "text": [
      "Joining, by = \"sex\"\n"
     ]
    },
    {
     "data": {
      "text/html": [
       "<table>\n",
       "<caption>A tibble: 16 × 3</caption>\n",
       "<thead>\n",
       "\t<tr><th scope=col>Tools</th><th scope=col>Female</th><th scope=col>Male</th></tr>\n",
       "\t<tr><th scope=col>&lt;chr&gt;</th><th scope=col>&lt;chr&gt;</th><th scope=col>&lt;chr&gt;</th></tr>\n",
       "</thead>\n",
       "<tbody>\n",
       "\t<tr><td>Excel/Google-таблицы    </td><td>66%</td><td>51%</td></tr>\n",
       "\t<tr><td>Python                  </td><td>45%</td><td>67%</td></tr>\n",
       "\t<tr><td>R                       </td><td>12%</td><td>15%</td></tr>\n",
       "\t<tr><td>SPSS                    </td><td>9% </td><td>8% </td></tr>\n",
       "\t<tr><td>не использую            </td><td>8% </td><td>9% </td></tr>\n",
       "\t<tr><td>MATLAB                  </td><td>5% </td><td>12%</td></tr>\n",
       "\t<tr><td>SAS                     </td><td>5% </td><td>2% </td></tr>\n",
       "\t<tr><td>Statistica              </td><td>3% </td><td>3% </td></tr>\n",
       "\t<tr><td>Crm                     </td><td>1% </td><td>0% </td></tr>\n",
       "\t<tr><td>Knime                   </td><td>1% </td><td>0% </td></tr>\n",
       "\t<tr><td>KNIME                   </td><td>1% </td><td>0% </td></tr>\n",
       "\t<tr><td>Pentaho                 </td><td>1% </td><td>0% </td></tr>\n",
       "\t<tr><td>sas                     </td><td>1% </td><td>0% </td></tr>\n",
       "\t<tr><td>Другое                  </td><td>1% </td><td>0% </td></tr>\n",
       "\t<tr><td>KNIME Analytics Platform</td><td>0% </td><td>0% </td></tr>\n",
       "\t<tr><td>stata                   </td><td>0% </td><td>0% </td></tr>\n",
       "</tbody>\n",
       "</table>\n"
      ],
      "text/latex": [
       "A tibble: 16 × 3\n",
       "\\begin{tabular}{lll}\n",
       " Tools & Female & Male\\\\\n",
       " <chr> & <chr> & <chr>\\\\\n",
       "\\hline\n",
       "\t Excel/Google-таблицы     & 66\\% & 51\\%\\\\\n",
       "\t Python                   & 45\\% & 67\\%\\\\\n",
       "\t R                        & 12\\% & 15\\%\\\\\n",
       "\t SPSS                     & 9\\%  & 8\\% \\\\\n",
       "\t не использую             & 8\\%  & 9\\% \\\\\n",
       "\t MATLAB                   & 5\\%  & 12\\%\\\\\n",
       "\t SAS                      & 5\\%  & 2\\% \\\\\n",
       "\t Statistica               & 3\\%  & 3\\% \\\\\n",
       "\t Crm                      & 1\\%  & 0\\% \\\\\n",
       "\t Knime                    & 1\\%  & 0\\% \\\\\n",
       "\t KNIME                    & 1\\%  & 0\\% \\\\\n",
       "\t Pentaho                  & 1\\%  & 0\\% \\\\\n",
       "\t sas                      & 1\\%  & 0\\% \\\\\n",
       "\t Другое                   & 1\\%  & 0\\% \\\\\n",
       "\t KNIME Analytics Platform & 0\\%  & 0\\% \\\\\n",
       "\t stata                    & 0\\%  & 0\\% \\\\\n",
       "\\end{tabular}\n"
      ],
      "text/markdown": [
       "\n",
       "A tibble: 16 × 3\n",
       "\n",
       "| Tools &lt;chr&gt; | Female &lt;chr&gt; | Male &lt;chr&gt; |\n",
       "|---|---|---|\n",
       "| Excel/Google-таблицы     | 66% | 51% |\n",
       "| Python                   | 45% | 67% |\n",
       "| R                        | 12% | 15% |\n",
       "| SPSS                     | 9%  | 8%  |\n",
       "| не использую             | 8%  | 9%  |\n",
       "| MATLAB                   | 5%  | 12% |\n",
       "| SAS                      | 5%  | 2%  |\n",
       "| Statistica               | 3%  | 3%  |\n",
       "| Crm                      | 1%  | 0%  |\n",
       "| Knime                    | 1%  | 0%  |\n",
       "| KNIME                    | 1%  | 0%  |\n",
       "| Pentaho                  | 1%  | 0%  |\n",
       "| sas                      | 1%  | 0%  |\n",
       "| Другое                   | 1%  | 0%  |\n",
       "| KNIME Analytics Platform | 0%  | 0%  |\n",
       "| stata                    | 0%  | 0%  |\n",
       "\n"
      ],
      "text/plain": [
       "   Tools                    Female Male\n",
       "1  Excel/Google-таблицы     66%    51% \n",
       "2  Python                   45%    67% \n",
       "3  R                        12%    15% \n",
       "4  SPSS                     9%     8%  \n",
       "5  не использую             8%     9%  \n",
       "6  MATLAB                   5%     12% \n",
       "7  SAS                      5%     2%  \n",
       "8  Statistica               3%     3%  \n",
       "9  Crm                      1%     0%  \n",
       "10 Knime                    1%     0%  \n",
       "11 KNIME                    1%     0%  \n",
       "12 Pentaho                  1%     0%  \n",
       "13 sas                      1%     0%  \n",
       "14 Другое                   1%     0%  \n",
       "15 KNIME Analytics Platform 0%     0%  \n",
       "16 stata                    0%     0%  "
      ]
     },
     "metadata": {},
     "output_type": "display_data"
    }
   ],
   "source": [
    "df_mod %>% \n",
    "    select(sex, tools = `Математические и статистические инструменты:`) %>% \n",
    "    tidyr::separate_rows(tools, sep = ',') %>% # some magic happens!\n",
    "    mutate(tools = str_trim(tools)) %>% \n",
    "    count(tools, sex, name = 'users') %>% \n",
    "    left_join(count(df_mod, sex)) %>% \n",
    "    mutate(share = users / n) %>% \n",
    "    group_by(sex) %>% \n",
    "    select(sex, tools, share) %>% \n",
    "    tidyr::spread(sex, share, fill = 0) %>% \n",
    "    filter(!is.na(tools)) %>% \n",
    "    arrange(-Female) %>% \n",
    "    select_all(str_to_title) %>% \n",
    "    mutate_at(vars(contains('male')), ~scales::percent(.))"
   ]
  },
  {
   "cell_type": "markdown",
   "metadata": {},
   "source": [
    "67% of men use Python, and 66% of women use Excel or Google sheets. 45% of women use Python."
   ]
  },
  {
   "cell_type": "markdown",
   "metadata": {},
   "source": [
    "## Question 6: What responsibilities do they have?"
   ]
  },
  {
   "cell_type": "code",
   "execution_count": 16,
   "metadata": {},
   "outputs": [
    {
     "name": "stderr",
     "output_type": "stream",
     "text": [
      "Joining, by = \"sex\"\n"
     ]
    },
    {
     "data": {
      "text/html": [
       "<table>\n",
       "<caption>A tibble: 20 × 3</caption>\n",
       "<thead>\n",
       "\t<tr><th scope=col>Functions</th><th scope=col>Female</th><th scope=col>Male</th></tr>\n",
       "\t<tr><th scope=col>&lt;chr&gt;</th><th scope=col>&lt;chr&gt;</th><th scope=col>&lt;chr&gt;</th></tr>\n",
       "</thead>\n",
       "<tbody>\n",
       "\t<tr><td>базовый статистический анализ                                             </td><td>47%</td><td>41%</td></tr>\n",
       "\t<tr><td>предобработка                                                             </td><td>42%</td><td>53%</td></tr>\n",
       "\t<tr><td>чистка и подготовка данных                                                </td><td>42%</td><td>53%</td></tr>\n",
       "\t<tr><td>визуализация и построение дашбордов (BI)                                  </td><td>36%</td><td>30%</td></tr>\n",
       "\t<tr><td>выгрузка                                                                  </td><td>32%</td><td>34%</td></tr>\n",
       "\t<tr><td>загрузка данных (ETL)                                                     </td><td>32%</td><td>34%</td></tr>\n",
       "\t<tr><td>поддержка инфраструктуры данных (DWH)                                     </td><td>32%</td><td>34%</td></tr>\n",
       "\t<tr><td>менеджмент                                                                </td><td>24%</td><td>21%</td></tr>\n",
       "\t<tr><td>управление                                                                </td><td>24%</td><td>21%</td></tr>\n",
       "\t<tr><td>поиск точек роста                                                         </td><td>23%</td><td>12%</td></tr>\n",
       "\t<tr><td>узких мест и трендов на основании данных                                  </td><td>23%</td><td>12%</td></tr>\n",
       "\t<tr><td>формирование гипотез и их проверка A/B-тестирование                       </td><td>16%</td><td>18%</td></tr>\n",
       "\t<tr><td>внедрение и поддержка систем BigData                                      </td><td>11%</td><td>8% </td></tr>\n",
       "\t<tr><td>разработка и тюнинг моделей классического ML                              </td><td>11%</td><td>22%</td></tr>\n",
       "\t<tr><td>разработка новых моделей и инструментов ML (ML-research) под нужды бизнеса</td><td>11%</td><td>14%</td></tr>\n",
       "\t<tr><td>обучение сотрудников                                                      </td><td>7% </td><td>9% </td></tr>\n",
       "\t<tr><td>развитие команды                                                          </td><td>7% </td><td>9% </td></tr>\n",
       "\t<tr><td>доведение ML-моделей в production                                         </td><td>5% </td><td>12%</td></tr>\n",
       "\t<tr><td>написание production-кода                                                 </td><td>5% </td><td>12%</td></tr>\n",
       "\t<tr><td>разработка и тюнинг моделей Deep Learning                                 </td><td>5% </td><td>15%</td></tr>\n",
       "</tbody>\n",
       "</table>\n"
      ],
      "text/latex": [
       "A tibble: 20 × 3\n",
       "\\begin{tabular}{lll}\n",
       " Functions & Female & Male\\\\\n",
       " <chr> & <chr> & <chr>\\\\\n",
       "\\hline\n",
       "\t базовый статистический анализ                                              & 47\\% & 41\\%\\\\\n",
       "\t предобработка                                                              & 42\\% & 53\\%\\\\\n",
       "\t чистка и подготовка данных                                                 & 42\\% & 53\\%\\\\\n",
       "\t визуализация и построение дашбордов (BI)                                   & 36\\% & 30\\%\\\\\n",
       "\t выгрузка                                                                   & 32\\% & 34\\%\\\\\n",
       "\t загрузка данных (ETL)                                                      & 32\\% & 34\\%\\\\\n",
       "\t поддержка инфраструктуры данных (DWH)                                      & 32\\% & 34\\%\\\\\n",
       "\t менеджмент                                                                 & 24\\% & 21\\%\\\\\n",
       "\t управление                                                                 & 24\\% & 21\\%\\\\\n",
       "\t поиск точек роста                                                          & 23\\% & 12\\%\\\\\n",
       "\t узких мест и трендов на основании данных                                   & 23\\% & 12\\%\\\\\n",
       "\t формирование гипотез и их проверка A/B-тестирование                        & 16\\% & 18\\%\\\\\n",
       "\t внедрение и поддержка систем BigData                                       & 11\\% & 8\\% \\\\\n",
       "\t разработка и тюнинг моделей классического ML                               & 11\\% & 22\\%\\\\\n",
       "\t разработка новых моделей и инструментов ML (ML-research) под нужды бизнеса & 11\\% & 14\\%\\\\\n",
       "\t обучение сотрудников                                                       & 7\\%  & 9\\% \\\\\n",
       "\t развитие команды                                                           & 7\\%  & 9\\% \\\\\n",
       "\t доведение ML-моделей в production                                          & 5\\%  & 12\\%\\\\\n",
       "\t написание production-кода                                                  & 5\\%  & 12\\%\\\\\n",
       "\t разработка и тюнинг моделей Deep Learning                                  & 5\\%  & 15\\%\\\\\n",
       "\\end{tabular}\n"
      ],
      "text/markdown": [
       "\n",
       "A tibble: 20 × 3\n",
       "\n",
       "| Functions &lt;chr&gt; | Female &lt;chr&gt; | Male &lt;chr&gt; |\n",
       "|---|---|---|\n",
       "| базовый статистический анализ                                              | 47% | 41% |\n",
       "| предобработка                                                              | 42% | 53% |\n",
       "| чистка и подготовка данных                                                 | 42% | 53% |\n",
       "| визуализация и построение дашбордов (BI)                                   | 36% | 30% |\n",
       "| выгрузка                                                                   | 32% | 34% |\n",
       "| загрузка данных (ETL)                                                      | 32% | 34% |\n",
       "| поддержка инфраструктуры данных (DWH)                                      | 32% | 34% |\n",
       "| менеджмент                                                                 | 24% | 21% |\n",
       "| управление                                                                 | 24% | 21% |\n",
       "| поиск точек роста                                                          | 23% | 12% |\n",
       "| узких мест и трендов на основании данных                                   | 23% | 12% |\n",
       "| формирование гипотез и их проверка A/B-тестирование                        | 16% | 18% |\n",
       "| внедрение и поддержка систем BigData                                       | 11% | 8%  |\n",
       "| разработка и тюнинг моделей классического ML                               | 11% | 22% |\n",
       "| разработка новых моделей и инструментов ML (ML-research) под нужды бизнеса | 11% | 14% |\n",
       "| обучение сотрудников                                                       | 7%  | 9%  |\n",
       "| развитие команды                                                           | 7%  | 9%  |\n",
       "| доведение ML-моделей в production                                          | 5%  | 12% |\n",
       "| написание production-кода                                                  | 5%  | 12% |\n",
       "| разработка и тюнинг моделей Deep Learning                                  | 5%  | 15% |\n",
       "\n"
      ],
      "text/plain": [
       "   Functions                                                                 \n",
       "1  базовый статистический анализ                                             \n",
       "2  предобработка                                                             \n",
       "3  чистка и подготовка данных                                                \n",
       "4  визуализация и построение дашбордов (BI)                                  \n",
       "5  выгрузка                                                                  \n",
       "6  загрузка данных (ETL)                                                     \n",
       "7  поддержка инфраструктуры данных (DWH)                                     \n",
       "8  менеджмент                                                                \n",
       "9  управление                                                                \n",
       "10 поиск точек роста                                                         \n",
       "11 узких мест и трендов на основании данных                                  \n",
       "12 формирование гипотез и их проверка A/B-тестирование                       \n",
       "13 внедрение и поддержка систем BigData                                      \n",
       "14 разработка и тюнинг моделей классического ML                              \n",
       "15 разработка новых моделей и инструментов ML (ML-research) под нужды бизнеса\n",
       "16 обучение сотрудников                                                      \n",
       "17 развитие команды                                                          \n",
       "18 доведение ML-моделей в production                                         \n",
       "19 написание production-кода                                                 \n",
       "20 разработка и тюнинг моделей Deep Learning                                 \n",
       "   Female Male\n",
       "1  47%    41% \n",
       "2  42%    53% \n",
       "3  42%    53% \n",
       "4  36%    30% \n",
       "5  32%    34% \n",
       "6  32%    34% \n",
       "7  32%    34% \n",
       "8  24%    21% \n",
       "9  24%    21% \n",
       "10 23%    12% \n",
       "11 23%    12% \n",
       "12 16%    18% \n",
       "13 11%    8%  \n",
       "14 11%    22% \n",
       "15 11%    14% \n",
       "16 7%     9%  \n",
       "17 7%     9%  \n",
       "18 5%     12% \n",
       "19 5%     12% \n",
       "20 5%     15% "
      ]
     },
     "metadata": {},
     "output_type": "display_data"
    }
   ],
   "source": [
    "df_mod %>% \n",
    "    select(sex, functions = `Отметьте три основные функции, которые входят в вашу зону ответственности:`) %>% \n",
    "    tidyr::separate_rows(functions, sep = ',') %>% # some magic happens!\n",
    "    mutate(functions = str_trim(functions)) %>% \n",
    "    count(functions, sex, name = 'users') %>% \n",
    "    left_join(count(df_mod, sex)) %>% \n",
    "    mutate(share = users / n) %>% \n",
    "    group_by(sex) %>% \n",
    "    select(sex, functions, share) %>% \n",
    "    filter(share >= 0.05) %>% \n",
    "    tidyr::spread(sex, share, fill = 0) %>% \n",
    "    filter(!is.na(functions)) %>% \n",
    "    arrange(-Female) %>% \n",
    "    select_all(str_to_title) %>% \n",
    "    mutate_at(vars(contains('male')), ~scales::percent(.))"
   ]
  },
  {
   "cell_type": "markdown",
   "metadata": {},
   "source": [
    "About the same TOP, we have different proportions for ML/DL and production code and for `поиск точек роста` and `узких мест и трендов на основании данных`. Let's check their titles."
   ]
  },
  {
   "cell_type": "markdown",
   "metadata": {},
   "source": [
    "## Question 7: What titles do they have?"
   ]
  },
  {
   "cell_type": "code",
   "execution_count": 17,
   "metadata": {},
   "outputs": [
    {
     "name": "stderr",
     "output_type": "stream",
     "text": [
      "Selecting by Count\n"
     ]
    },
    {
     "data": {
      "text/html": [
       "<table>\n",
       "<caption>A grouped_df: 7 × 3</caption>\n",
       "<thead>\n",
       "\t<tr><th scope=col>Sex</th><th scope=col>Title</th><th scope=col>Count</th></tr>\n",
       "\t<tr><th scope=col>&lt;chr&gt;</th><th scope=col>&lt;chr&gt;</th><th scope=col>&lt;int&gt;</th></tr>\n",
       "</thead>\n",
       "<tbody>\n",
       "\t<tr><td>Male  </td><td>Data Scientists             </td><td>53</td></tr>\n",
       "\t<tr><td>Male  </td><td>BI- аналитик                </td><td>24</td></tr>\n",
       "\t<tr><td>Male  </td><td>DWH-engineer (Data-engineer)</td><td>23</td></tr>\n",
       "\t<tr><td>Female</td><td>Data Scientists             </td><td>13</td></tr>\n",
       "\t<tr><td>Female</td><td>маркетинговый аналитик      </td><td> 9</td></tr>\n",
       "\t<tr><td>Female</td><td>BI- аналитик                </td><td> 6</td></tr>\n",
       "\t<tr><td>Female</td><td>DWH-engineer (Data-engineer)</td><td> 6</td></tr>\n",
       "</tbody>\n",
       "</table>\n"
      ],
      "text/latex": [
       "A grouped\\_df: 7 × 3\n",
       "\\begin{tabular}{lll}\n",
       " Sex & Title & Count\\\\\n",
       " <chr> & <chr> & <int>\\\\\n",
       "\\hline\n",
       "\t Male   & Data Scientists              & 53\\\\\n",
       "\t Male   & BI- аналитик                 & 24\\\\\n",
       "\t Male   & DWH-engineer (Data-engineer) & 23\\\\\n",
       "\t Female & Data Scientists              & 13\\\\\n",
       "\t Female & маркетинговый аналитик       &  9\\\\\n",
       "\t Female & BI- аналитик                 &  6\\\\\n",
       "\t Female & DWH-engineer (Data-engineer) &  6\\\\\n",
       "\\end{tabular}\n"
      ],
      "text/markdown": [
       "\n",
       "A grouped_df: 7 × 3\n",
       "\n",
       "| Sex &lt;chr&gt; | Title &lt;chr&gt; | Count &lt;int&gt; |\n",
       "|---|---|---|\n",
       "| Male   | Data Scientists              | 53 |\n",
       "| Male   | BI- аналитик                 | 24 |\n",
       "| Male   | DWH-engineer (Data-engineer) | 23 |\n",
       "| Female | Data Scientists              | 13 |\n",
       "| Female | маркетинговый аналитик       |  9 |\n",
       "| Female | BI- аналитик                 |  6 |\n",
       "| Female | DWH-engineer (Data-engineer) |  6 |\n",
       "\n"
      ],
      "text/plain": [
       "  Sex    Title                        Count\n",
       "1 Male   Data Scientists              53   \n",
       "2 Male   BI- аналитик                 24   \n",
       "3 Male   DWH-engineer (Data-engineer) 23   \n",
       "4 Female Data Scientists              13   \n",
       "5 Female маркетинговый аналитик        9   \n",
       "6 Female BI- аналитик                  6   \n",
       "7 Female DWH-engineer (Data-engineer)  6   "
      ]
     },
     "metadata": {},
     "output_type": "display_data"
    }
   ],
   "source": [
    "count(df_mod, sex, title = `Позиция на текущем месте работы:`, name = 'Count', sort = T) %>% \n",
    "    group_by(sex) %>% \n",
    "    top_n(3) %>% \n",
    "    select_all(str_to_title)"
   ]
  },
  {
   "cell_type": "markdown",
   "metadata": {},
   "source": [
    "For female we have Marketing analyst in the TOP, so maybe that's why we have previous difference for women."
   ]
  },
  {
   "cell_type": "markdown",
   "metadata": {},
   "source": [
    "<a id='bonus'></a>\n",
    "## Bonus: useful links"
   ]
  },
  {
   "cell_type": "code",
   "execution_count": 18,
   "metadata": {},
   "outputs": [
    {
     "data": {
      "text/html": [
       "<table>\n",
       "<caption>A tibble: 26 × 1</caption>\n",
       "<thead>\n",
       "\t<tr><th scope=col>sources</th></tr>\n",
       "\t<tr><th scope=col>&lt;chr&gt;</th></tr>\n",
       "</thead>\n",
       "<tbody>\n",
       "\t<tr><td>coursera              </td></tr>\n",
       "\t<tr><td>habr                  </td></tr>\n",
       "\t<tr><td>medium                </td></tr>\n",
       "\t<tr><td>towardsdatascience    </td></tr>\n",
       "\t<tr><td>dsmlkz                </td></tr>\n",
       "\t<tr><td>ods                   </td></tr>\n",
       "\t<tr><td>sirajraval            </td></tr>\n",
       "\t<tr><td>stepik                </td></tr>\n",
       "\t<tr><td>fless                 </td></tr>\n",
       "\t<tr><td>google                </td></tr>\n",
       "\t<tr><td>youtube               </td></tr>\n",
       "\t<tr><td>хабр                  </td></tr>\n",
       "\t<tr><td>хаудихо               </td></tr>\n",
       "\t<tr><td>ableacademy           </td></tr>\n",
       "\t<tr><td>curbal                </td></tr>\n",
       "\t<tr><td>github                </td></tr>\n",
       "\t<tr><td>joma                  </td></tr>\n",
       "\t<tr><td>machinelearningmastery</td></tr>\n",
       "\t<tr><td>mltrainings           </td></tr>\n",
       "\t<tr><td>opendatascience       </td></tr>\n",
       "\t<tr><td>sentdex               </td></tr>\n",
       "\t<tr><td>sentdexyoutube        </td></tr>\n",
       "\t<tr><td>techlead              </td></tr>\n",
       "\t<tr><td>udemy                 </td></tr>\n",
       "\t<tr><td>тимофейхирьяков       </td></tr>\n",
       "\t<tr><td>яндекс                </td></tr>\n",
       "</tbody>\n",
       "</table>\n"
      ],
      "text/latex": [
       "A tibble: 26 × 1\n",
       "\\begin{tabular}{l}\n",
       " sources\\\\\n",
       " <chr>\\\\\n",
       "\\hline\n",
       "\t coursera              \\\\\n",
       "\t habr                  \\\\\n",
       "\t medium                \\\\\n",
       "\t towardsdatascience    \\\\\n",
       "\t dsmlkz                \\\\\n",
       "\t ods                   \\\\\n",
       "\t sirajraval            \\\\\n",
       "\t stepik                \\\\\n",
       "\t fless                 \\\\\n",
       "\t google                \\\\\n",
       "\t youtube               \\\\\n",
       "\t хабр                  \\\\\n",
       "\t хаудихо               \\\\\n",
       "\t ableacademy           \\\\\n",
       "\t curbal                \\\\\n",
       "\t github                \\\\\n",
       "\t joma                  \\\\\n",
       "\t machinelearningmastery\\\\\n",
       "\t mltrainings           \\\\\n",
       "\t opendatascience       \\\\\n",
       "\t sentdex               \\\\\n",
       "\t sentdexyoutube        \\\\\n",
       "\t techlead              \\\\\n",
       "\t udemy                 \\\\\n",
       "\t тимофейхирьяков       \\\\\n",
       "\t яндекс                \\\\\n",
       "\\end{tabular}\n"
      ],
      "text/markdown": [
       "\n",
       "A tibble: 26 × 1\n",
       "\n",
       "| sources &lt;chr&gt; |\n",
       "|---|\n",
       "| coursera               |\n",
       "| habr                   |\n",
       "| medium                 |\n",
       "| towardsdatascience     |\n",
       "| dsmlkz                 |\n",
       "| ods                    |\n",
       "| sirajraval             |\n",
       "| stepik                 |\n",
       "| fless                  |\n",
       "| google                 |\n",
       "| youtube                |\n",
       "| хабр                   |\n",
       "| хаудихо                |\n",
       "| ableacademy            |\n",
       "| curbal                 |\n",
       "| github                 |\n",
       "| joma                   |\n",
       "| machinelearningmastery |\n",
       "| mltrainings            |\n",
       "| opendatascience        |\n",
       "| sentdex                |\n",
       "| sentdexyoutube         |\n",
       "| techlead               |\n",
       "| udemy                  |\n",
       "| тимофейхирьяков        |\n",
       "| яндекс                 |\n",
       "\n"
      ],
      "text/plain": [
       "   sources               \n",
       "1  coursera              \n",
       "2  habr                  \n",
       "3  medium                \n",
       "4  towardsdatascience    \n",
       "5  dsmlkz                \n",
       "6  ods                   \n",
       "7  sirajraval            \n",
       "8  stepik                \n",
       "9  fless                 \n",
       "10 google                \n",
       "11 youtube               \n",
       "12 хабр                  \n",
       "13 хаудихо               \n",
       "14 ableacademy           \n",
       "15 curbal                \n",
       "16 github                \n",
       "17 joma                  \n",
       "18 machinelearningmastery\n",
       "19 mltrainings           \n",
       "20 opendatascience       \n",
       "21 sentdex               \n",
       "22 sentdexyoutube        \n",
       "23 techlead              \n",
       "24 udemy                 \n",
       "25 тимофейхирьяков       \n",
       "26 яндекс                "
      ]
     },
     "metadata": {},
     "output_type": "display_data"
    }
   ],
   "source": [
    "select(df_mod, sources = `Напишите топ любимых каналов/блогов/авторов, которые помогают вам в профессиональном развитии.`) %>% \n",
    "    tidyr::separate_rows(sources, sep = ',') %>% \n",
    "    mutate(sources = str_trim(sources),\n",
    "         sources = str_to_lower(sources),\n",
    "         sources = str_remove(sources, '.com|online'),\n",
    "         sources = str_remove_all(sources, '[:digit:]|[:punct:]|[:space:]')) %>% \n",
    "    na_if('') %>% \n",
    "    filter(!is.na(sources), !sources %in% c('нет', '-', 'no', '---', '...')) %>% \n",
    "    count(sources) %>% \n",
    "    arrange(-n) %>% \n",
    "    filter(n > 1) %>%     \n",
    "    select(-n)"
   ]
  }
 ],
 "metadata": {
  "kernelspec": {
   "display_name": "R",
   "language": "R",
   "name": "ir"
  },
  "language_info": {
   "codemirror_mode": "r",
   "file_extension": ".r",
   "mimetype": "text/x-r-source",
   "name": "R",
   "pygments_lexer": "r",
   "version": "3.6.2"
  }
 },
 "nbformat": 4,
 "nbformat_minor": 2
}
